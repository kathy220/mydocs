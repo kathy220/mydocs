{
 "cells": [
  {
   "cell_type": "markdown",
   "metadata": {},
   "source": [
    "### DERC的行业景气度配置 by 陈策"
   ]
  },
  {
   "cell_type": "code",
   "execution_count": null,
   "metadata": {},
   "outputs": [],
   "source": [
    "import pandas as pd\n",
    "import numpy as np\n",
    "import datetime\n",
    "import time\n",
    "import matplotlib.pyplot as plt\n",
    "import seaborn as sns\n",
    "from tqdm import tqdm #进度条\n",
    "from functools import reduce\n",
    "\n",
    "plt.rcParams['font.family'] = ['SimHei'] #正常显示中文\n",
    "plt.rcParams['axes.unicode_minus'] = False #正常显示负号\n",
    "\n",
    "pd.options.display.max_columns = None\n",
    "pd.options.display.max_rows = 10"
   ]
  },
  {
   "cell_type": "markdown",
   "metadata": {},
   "source": [
    "#### 输入"
   ]
  },
  {
   "cell_type": "markdown",
   "metadata": {},
   "source": [
    "#### 读取数据"
   ]
  },
  {
   "cell_type": "code",
   "execution_count": null,
   "metadata": {},
   "outputs": [],
   "source": [
    "df = pd.read_excel('./房地产指标20210108.xlsx')\n"
   ]
  },
  {
   "cell_type": "markdown",
   "metadata": {},
   "source": [
    "#### outlier处理"
   ]
  },
  {
   "cell_type": "code",
   "execution_count": null,
   "metadata": {},
   "outputs": [],
   "source": [
    "def filter_outlier(x): #以3倍标准差为界，给outlier重新赋值\n",
    "    x_mean = np.mean(x)\n",
    "    x_std = np.std(x)\n",
    "    upper_limit = x_mean + 3*x_std\n",
    "    lower_limit = x_mean - 3*x_std\n",
    "    \n",
    "    if x > upper_limit:\n",
    "        return upper_limit\n",
    "    elif x < lower_limit:\n",
    "        return lower_limit\n",
    "    else:\n",
    "        return x"
   ]
  },
  {
   "cell_type": "markdown",
   "metadata": {},
   "source": [
    "#### MinMax标准化"
   ]
  },
  {
   "cell_type": "code",
   "execution_count": null,
   "metadata": {},
   "outputs": [],
   "source": [
    "def MinMax_Standardizer(x):\n",
    "    x_min = np.min(x)\n",
    "    x_max = np.max(x)\n",
    "    standard_x = x.apply(lambda x:(x-x_min)/(x_max-x_min))\n",
    "    return standard_x"
   ]
  },
  {
   "cell_type": "markdown",
   "metadata": {},
   "source": [
    "#### 数据预处理\n",
    "1. 设第二行为列名\n",
    "2. 修改最后两列列名\n",
    "3. 仅选取某段时间数据\n",
    "4. 异常值处理\n",
    "5. MinMax标准化"
   ]
  },
  {
   "cell_type": "code",
   "execution_count": null,
   "metadata": {},
   "outputs": [],
   "source": [
    "def parse_data(df, start_date = '2010-01', end_date = '2020-12'):\n",
    "    df.columns = df.iloc[0].values #以首行数据为列名\n",
    "    df = df.drop([0, 1]).set_index('指标名称')\n",
    "    df.index.name = '日期'\n",
    "    df = df[start_date:end_date].reset_index()\n",
    "    df['日期'] = df['日期'].astype('str').apply(lambda x:x[:-3]) #强制转换数据格式\n",
    "    for col in df.columns.tolist()[1:]:\n",
    "        df[col] = df[col].astype('float')\n",
    "        df[col] = filter_outlier(df[col])\n",
    "        df[col] = MinMax_Standardizer(df[col])\n",
    "    return df"
   ]
  },
  {
   "cell_type": "markdown",
   "metadata": {},
   "source": [
    "使用z-score描述指标所处的位置高低"
   ]
  }
 ],
 "metadata": {
  "language_info": {
   "name": "python"
  },
  "orig_nbformat": 4
 },
 "nbformat": 4,
 "nbformat_minor": 2
}
